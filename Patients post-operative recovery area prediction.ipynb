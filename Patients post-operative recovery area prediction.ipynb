{
 "cells": [
  {
   "cell_type": "code",
   "execution_count": 5,
   "metadata": {
    "executionInfo": {
     "elapsed": 585,
     "status": "ok",
     "timestamp": 1664819857827,
     "user": {
      "displayName": "Shreyash Jagdale",
      "userId": "16622866640788809189"
     },
     "user_tz": -330
    },
    "id": "6jf-kq1h119c"
   },
   "outputs": [],
   "source": [
    "import numpy as np\n",
    "import pandas as pd\n",
    "from numpy import math\n",
    "\n",
    "from sklearn.preprocessing import MinMaxScaler\n",
    "from sklearn.model_selection import train_test_split\n",
    "from sklearn.linear_model import LinearRegression\n",
    "from sklearn.metrics import r2_score\n",
    "from sklearn.metrics import mean_squared_error\n",
    "\n",
    "import matplotlib.pyplot as plt\n",
    "import seaborn as sns"
   ]
  },
  {
   "cell_type": "code",
   "execution_count": 146,
   "metadata": {
    "executionInfo": {
     "elapsed": 549,
     "status": "ok",
     "timestamp": 1664821021222,
     "user": {
      "displayName": "Shreyash Jagdale",
      "userId": "16622866640788809189"
     },
     "user_tz": -330
    },
    "id": "DfP9G0e3Kvus"
   },
   "outputs": [],
   "source": [
    "df = pd.read_csv('/content/post-operative.data',header=None)"
   ]
  },
  {
   "cell_type": "code",
   "execution_count": 147,
   "metadata": {
    "colab": {
     "base_uri": "https://localhost:8080/",
     "height": 206
    },
    "executionInfo": {
     "elapsed": 25,
     "status": "ok",
     "timestamp": 1664821023127,
     "user": {
      "displayName": "Shreyash Jagdale",
      "userId": "16622866640788809189"
     },
     "user_tz": -330
    },
    "id": "7feh5DkULPz5",
    "outputId": "3ab4b105-a336-409e-92ce-59254259fb63"
   },
   "outputs": [
    {
     "data": {
      "text/html": [
       "\n",
       "  <div id=\"df-8854ff58-e32f-47f7-92a3-0a4ba724c6a2\">\n",
       "    <div class=\"colab-df-container\">\n",
       "      <div>\n",
       "<style scoped>\n",
       "    .dataframe tbody tr th:only-of-type {\n",
       "        vertical-align: middle;\n",
       "    }\n",
       "\n",
       "    .dataframe tbody tr th {\n",
       "        vertical-align: top;\n",
       "    }\n",
       "\n",
       "    .dataframe thead th {\n",
       "        text-align: right;\n",
       "    }\n",
       "</style>\n",
       "<table border=\"1\" class=\"dataframe\">\n",
       "  <thead>\n",
       "    <tr style=\"text-align: right;\">\n",
       "      <th></th>\n",
       "      <th>0</th>\n",
       "      <th>1</th>\n",
       "      <th>2</th>\n",
       "      <th>3</th>\n",
       "      <th>4</th>\n",
       "      <th>5</th>\n",
       "      <th>6</th>\n",
       "      <th>7</th>\n",
       "      <th>8</th>\n",
       "    </tr>\n",
       "  </thead>\n",
       "  <tbody>\n",
       "    <tr>\n",
       "      <th>0</th>\n",
       "      <td>mid</td>\n",
       "      <td>low</td>\n",
       "      <td>excellent</td>\n",
       "      <td>mid</td>\n",
       "      <td>stable</td>\n",
       "      <td>stable</td>\n",
       "      <td>stable</td>\n",
       "      <td>15</td>\n",
       "      <td>A</td>\n",
       "    </tr>\n",
       "    <tr>\n",
       "      <th>1</th>\n",
       "      <td>mid</td>\n",
       "      <td>high</td>\n",
       "      <td>excellent</td>\n",
       "      <td>high</td>\n",
       "      <td>stable</td>\n",
       "      <td>stable</td>\n",
       "      <td>stable</td>\n",
       "      <td>10</td>\n",
       "      <td>S</td>\n",
       "    </tr>\n",
       "    <tr>\n",
       "      <th>2</th>\n",
       "      <td>high</td>\n",
       "      <td>low</td>\n",
       "      <td>excellent</td>\n",
       "      <td>high</td>\n",
       "      <td>stable</td>\n",
       "      <td>stable</td>\n",
       "      <td>mod-stable</td>\n",
       "      <td>10</td>\n",
       "      <td>A</td>\n",
       "    </tr>\n",
       "    <tr>\n",
       "      <th>3</th>\n",
       "      <td>mid</td>\n",
       "      <td>low</td>\n",
       "      <td>good</td>\n",
       "      <td>high</td>\n",
       "      <td>stable</td>\n",
       "      <td>unstable</td>\n",
       "      <td>mod-stable</td>\n",
       "      <td>15</td>\n",
       "      <td>A</td>\n",
       "    </tr>\n",
       "    <tr>\n",
       "      <th>4</th>\n",
       "      <td>mid</td>\n",
       "      <td>mid</td>\n",
       "      <td>excellent</td>\n",
       "      <td>high</td>\n",
       "      <td>stable</td>\n",
       "      <td>stable</td>\n",
       "      <td>stable</td>\n",
       "      <td>10</td>\n",
       "      <td>A</td>\n",
       "    </tr>\n",
       "  </tbody>\n",
       "</table>\n",
       "</div>\n",
       "      <button class=\"colab-df-convert\" onclick=\"convertToInteractive('df-8854ff58-e32f-47f7-92a3-0a4ba724c6a2')\"\n",
       "              title=\"Convert this dataframe to an interactive table.\"\n",
       "              style=\"display:none;\">\n",
       "        \n",
       "  <svg xmlns=\"http://www.w3.org/2000/svg\" height=\"24px\"viewBox=\"0 0 24 24\"\n",
       "       width=\"24px\">\n",
       "    <path d=\"M0 0h24v24H0V0z\" fill=\"none\"/>\n",
       "    <path d=\"M18.56 5.44l.94 2.06.94-2.06 2.06-.94-2.06-.94-.94-2.06-.94 2.06-2.06.94zm-11 1L8.5 8.5l.94-2.06 2.06-.94-2.06-.94L8.5 2.5l-.94 2.06-2.06.94zm10 10l.94 2.06.94-2.06 2.06-.94-2.06-.94-.94-2.06-.94 2.06-2.06.94z\"/><path d=\"M17.41 7.96l-1.37-1.37c-.4-.4-.92-.59-1.43-.59-.52 0-1.04.2-1.43.59L10.3 9.45l-7.72 7.72c-.78.78-.78 2.05 0 2.83L4 21.41c.39.39.9.59 1.41.59.51 0 1.02-.2 1.41-.59l7.78-7.78 2.81-2.81c.8-.78.8-2.07 0-2.86zM5.41 20L4 18.59l7.72-7.72 1.47 1.35L5.41 20z\"/>\n",
       "  </svg>\n",
       "      </button>\n",
       "      \n",
       "  <style>\n",
       "    .colab-df-container {\n",
       "      display:flex;\n",
       "      flex-wrap:wrap;\n",
       "      gap: 12px;\n",
       "    }\n",
       "\n",
       "    .colab-df-convert {\n",
       "      background-color: #E8F0FE;\n",
       "      border: none;\n",
       "      border-radius: 50%;\n",
       "      cursor: pointer;\n",
       "      display: none;\n",
       "      fill: #1967D2;\n",
       "      height: 32px;\n",
       "      padding: 0 0 0 0;\n",
       "      width: 32px;\n",
       "    }\n",
       "\n",
       "    .colab-df-convert:hover {\n",
       "      background-color: #E2EBFA;\n",
       "      box-shadow: 0px 1px 2px rgba(60, 64, 67, 0.3), 0px 1px 3px 1px rgba(60, 64, 67, 0.15);\n",
       "      fill: #174EA6;\n",
       "    }\n",
       "\n",
       "    [theme=dark] .colab-df-convert {\n",
       "      background-color: #3B4455;\n",
       "      fill: #D2E3FC;\n",
       "    }\n",
       "\n",
       "    [theme=dark] .colab-df-convert:hover {\n",
       "      background-color: #434B5C;\n",
       "      box-shadow: 0px 1px 3px 1px rgba(0, 0, 0, 0.15);\n",
       "      filter: drop-shadow(0px 1px 2px rgba(0, 0, 0, 0.3));\n",
       "      fill: #FFFFFF;\n",
       "    }\n",
       "  </style>\n",
       "\n",
       "      <script>\n",
       "        const buttonEl =\n",
       "          document.querySelector('#df-8854ff58-e32f-47f7-92a3-0a4ba724c6a2 button.colab-df-convert');\n",
       "        buttonEl.style.display =\n",
       "          google.colab.kernel.accessAllowed ? 'block' : 'none';\n",
       "\n",
       "        async function convertToInteractive(key) {\n",
       "          const element = document.querySelector('#df-8854ff58-e32f-47f7-92a3-0a4ba724c6a2');\n",
       "          const dataTable =\n",
       "            await google.colab.kernel.invokeFunction('convertToInteractive',\n",
       "                                                     [key], {});\n",
       "          if (!dataTable) return;\n",
       "\n",
       "          const docLinkHtml = 'Like what you see? Visit the ' +\n",
       "            '<a target=\"_blank\" href=https://colab.research.google.com/notebooks/data_table.ipynb>data table notebook</a>'\n",
       "            + ' to learn more about interactive tables.';\n",
       "          element.innerHTML = '';\n",
       "          dataTable['output_type'] = 'display_data';\n",
       "          await google.colab.output.renderOutput(dataTable, element);\n",
       "          const docLink = document.createElement('div');\n",
       "          docLink.innerHTML = docLinkHtml;\n",
       "          element.appendChild(docLink);\n",
       "        }\n",
       "      </script>\n",
       "    </div>\n",
       "  </div>\n",
       "  "
      ],
      "text/plain": [
       "      0     1          2     3       4         5           6   7   8\n",
       "0   mid   low  excellent   mid  stable    stable      stable  15   A\n",
       "1   mid  high  excellent  high  stable    stable      stable  10   S\n",
       "2  high   low  excellent  high  stable    stable  mod-stable  10   A\n",
       "3   mid   low       good  high  stable  unstable  mod-stable  15  A \n",
       "4   mid   mid  excellent  high  stable    stable      stable  10   A"
      ]
     },
     "execution_count": 147,
     "metadata": {},
     "output_type": "execute_result"
    }
   ],
   "source": [
    "df.head()"
   ]
  },
  {
   "cell_type": "code",
   "execution_count": 148,
   "metadata": {
    "colab": {
     "base_uri": "https://localhost:8080/"
    },
    "executionInfo": {
     "elapsed": 25,
     "status": "ok",
     "timestamp": 1664821025724,
     "user": {
      "displayName": "Shreyash Jagdale",
      "userId": "16622866640788809189"
     },
     "user_tz": -330
    },
    "id": "cuJtrfKrLuYV",
    "outputId": "82bd4d61-c2ea-48ef-9842-61f71d1718c8"
   },
   "outputs": [
    {
     "name": "stdout",
     "output_type": "stream",
     "text": [
      "<class 'pandas.core.frame.DataFrame'>\n",
      "RangeIndex: 90 entries, 0 to 89\n",
      "Data columns (total 9 columns):\n",
      " #   Column  Non-Null Count  Dtype \n",
      "---  ------  --------------  ----- \n",
      " 0   0       90 non-null     object\n",
      " 1   1       90 non-null     object\n",
      " 2   2       90 non-null     object\n",
      " 3   3       90 non-null     object\n",
      " 4   4       90 non-null     object\n",
      " 5   5       90 non-null     object\n",
      " 6   6       90 non-null     object\n",
      " 7   7       90 non-null     object\n",
      " 8   8       90 non-null     object\n",
      "dtypes: object(9)\n",
      "memory usage: 6.5+ KB\n"
     ]
    }
   ],
   "source": [
    "df.info()"
   ]
  },
  {
   "cell_type": "code",
   "execution_count": 149,
   "metadata": {
    "executionInfo": {
     "elapsed": 8,
     "status": "ok",
     "timestamp": 1664821028129,
     "user": {
      "displayName": "Shreyash Jagdale",
      "userId": "16622866640788809189"
     },
     "user_tz": -330
    },
    "id": "u_tpSnQmCmqB"
   },
   "outputs": [],
   "source": [
    "df.rename(columns=\n",
    "               {0 : 'core_temp' ,\n",
    "                1 : 'surf_temp' ,\n",
    "                2 : 'o2_satur' ,\n",
    "                3 : 'bp' ,\n",
    "                4 : 'surf_temp_stbl' ,\n",
    "                5 : 'core_temp_stbl' ,\n",
    "                6 : 'bp_stbl' ,\n",
    "                7 : 'comfort' ,\n",
    "                8 : 'decision'},inplace=True)"
   ]
  },
  {
   "cell_type": "code",
   "execution_count": 150,
   "metadata": {
    "colab": {
     "base_uri": "https://localhost:8080/"
    },
    "executionInfo": {
     "elapsed": 686,
     "status": "ok",
     "timestamp": 1664821033896,
     "user": {
      "displayName": "Shreyash Jagdale",
      "userId": "16622866640788809189"
     },
     "user_tz": -330
    },
    "id": "wxadHChJNGau",
    "outputId": "b8c363d5-c776-44e9-a8d8-40487759bab6"
   },
   "outputs": [
    {
     "name": "stdout",
     "output_type": "stream",
     "text": [
      "<class 'pandas.core.frame.DataFrame'>\n",
      "RangeIndex: 90 entries, 0 to 89\n",
      "Data columns (total 9 columns):\n",
      " #   Column          Non-Null Count  Dtype \n",
      "---  ------          --------------  ----- \n",
      " 0   core_temp       90 non-null     object\n",
      " 1   surf_temp       90 non-null     object\n",
      " 2   o2_satur        90 non-null     object\n",
      " 3   bp              90 non-null     object\n",
      " 4   surf_temp_stbl  90 non-null     object\n",
      " 5   core_temp_stbl  90 non-null     object\n",
      " 6   bp_stbl         90 non-null     object\n",
      " 7   comfort         90 non-null     object\n",
      " 8   decision        90 non-null     object\n",
      "dtypes: object(9)\n",
      "memory usage: 6.5+ KB\n"
     ]
    }
   ],
   "source": [
    "df.info()"
   ]
  },
  {
   "cell_type": "code",
   "execution_count": 151,
   "metadata": {
    "executionInfo": {
     "elapsed": 670,
     "status": "ok",
     "timestamp": 1664821036645,
     "user": {
      "displayName": "Shreyash Jagdale",
      "userId": "16622866640788809189"
     },
     "user_tz": -330
    },
    "id": "xxo3h-fSnO_l"
   },
   "outputs": [],
   "source": [
    "df['core_temp'] = df['core_temp'].replace({'high' : 2 , 'mid' : 1 ,'low' : 0})\n",
    "df['surf_temp'] = df['surf_temp'].replace({'high' : 2 , 'mid' : 1 ,'low' : 0})\n",
    "df['bp'] = df['bp'].replace({'high' : 2 , 'mid' : 1 ,'low' : 0})\n",
    "df['surf_temp_stbl'] = df['surf_temp_stbl'].replace({'stable' : 2 , 'mod_stable' : 1 ,'unstable' : 0})\n",
    "df['core_temp_stbl'] = df['core_temp_stbl'].replace({'stable' : 2 , 'mod_stable' : 1 ,'mod-stable' : 1 ,'unstable' : 0})\n",
    "df['bp_stbl'] = df['bp'].replace({'stable' : 2 , 'mod_stable' : 1 ,'unstable' : 0})\n",
    "df['o2_satur'] = df['o2_satur'].replace({'poor' : 0 , 'fair' : 1 , 'good' : 2 , 'excellent' : 3})\n",
    "df['decision'] = df['decision'].replace({'I' : 0 , 'A' : 1 ,'A ' : 1, 'S' : 2})"
   ]
  },
  {
   "cell_type": "code",
   "execution_count": 152,
   "metadata": {
    "colab": {
     "base_uri": "https://localhost:8080/"
    },
    "executionInfo": {
     "elapsed": 13,
     "status": "ok",
     "timestamp": 1664821038987,
     "user": {
      "displayName": "Shreyash Jagdale",
      "userId": "16622866640788809189"
     },
     "user_tz": -330
    },
    "id": "eC0itJNcnUTL",
    "outputId": "f1368389-4a9a-4b77-c5e7-0c5b8fb2f340"
   },
   "outputs": [
    {
     "name": "stdout",
     "output_type": "stream",
     "text": [
      "<class 'pandas.core.frame.DataFrame'>\n",
      "RangeIndex: 90 entries, 0 to 89\n",
      "Data columns (total 9 columns):\n",
      " #   Column          Non-Null Count  Dtype \n",
      "---  ------          --------------  ----- \n",
      " 0   core_temp       90 non-null     int64 \n",
      " 1   surf_temp       90 non-null     int64 \n",
      " 2   o2_satur        90 non-null     int64 \n",
      " 3   bp              90 non-null     int64 \n",
      " 4   surf_temp_stbl  90 non-null     int64 \n",
      " 5   core_temp_stbl  90 non-null     int64 \n",
      " 6   bp_stbl         90 non-null     int64 \n",
      " 7   comfort         90 non-null     object\n",
      " 8   decision        90 non-null     int64 \n",
      "dtypes: int64(8), object(1)\n",
      "memory usage: 6.5+ KB\n"
     ]
    }
   ],
   "source": [
    "df.info()"
   ]
  },
  {
   "cell_type": "code",
   "execution_count": 153,
   "metadata": {
    "colab": {
     "base_uri": "https://localhost:8080/"
    },
    "executionInfo": {
     "elapsed": 729,
     "status": "ok",
     "timestamp": 1664821053777,
     "user": {
      "displayName": "Shreyash Jagdale",
      "userId": "16622866640788809189"
     },
     "user_tz": -330
    },
    "id": "pjo4FXkJimlF",
    "outputId": "170f6c6a-5407-4d06-d38f-45fe299c46ce"
   },
   "outputs": [
    {
     "data": {
      "text/plain": [
       "10    65\n",
       "15    19\n",
       "?      3\n",
       "05     2\n",
       "07     1\n",
       "Name: comfort, dtype: int64"
      ]
     },
     "execution_count": 153,
     "metadata": {},
     "output_type": "execute_result"
    }
   ],
   "source": [
    "df['comfort'].value_counts()"
   ]
  },
  {
   "cell_type": "code",
   "execution_count": 154,
   "metadata": {
    "colab": {
     "base_uri": "https://localhost:8080/"
    },
    "executionInfo": {
     "elapsed": 24,
     "status": "ok",
     "timestamp": 1664821056292,
     "user": {
      "displayName": "Shreyash Jagdale",
      "userId": "16622866640788809189"
     },
     "user_tz": -330
    },
    "id": "cfglSwA9jPEh",
    "outputId": "57762f72-9dc8-4889-bce6-4b10006a36bd"
   },
   "outputs": [
    {
     "name": "stderr",
     "output_type": "stream",
     "text": [
      "/usr/local/lib/python3.7/dist-packages/ipykernel_launcher.py:1: FutureWarning: The default value of regex will change from True to False in a future version. In addition, single character regular expressions will *not* be treated as literal strings when regex=True.\n",
      "  \"\"\"Entry point for launching an IPython kernel.\n"
     ]
    }
   ],
   "source": [
    "df['comfort'] = df['comfort'].str.replace('?' , '10').astype(int)"
   ]
  },
  {
   "cell_type": "code",
   "execution_count": 155,
   "metadata": {
    "colab": {
     "base_uri": "https://localhost:8080/"
    },
    "executionInfo": {
     "elapsed": 18,
     "status": "ok",
     "timestamp": 1664821058438,
     "user": {
      "displayName": "Shreyash Jagdale",
      "userId": "16622866640788809189"
     },
     "user_tz": -330
    },
    "id": "Xdx8VpBnk8Dz",
    "outputId": "1ec0fafa-f355-4391-a750-826685f6deb9"
   },
   "outputs": [
    {
     "name": "stdout",
     "output_type": "stream",
     "text": [
      "<class 'pandas.core.frame.DataFrame'>\n",
      "RangeIndex: 90 entries, 0 to 89\n",
      "Data columns (total 9 columns):\n",
      " #   Column          Non-Null Count  Dtype\n",
      "---  ------          --------------  -----\n",
      " 0   core_temp       90 non-null     int64\n",
      " 1   surf_temp       90 non-null     int64\n",
      " 2   o2_satur        90 non-null     int64\n",
      " 3   bp              90 non-null     int64\n",
      " 4   surf_temp_stbl  90 non-null     int64\n",
      " 5   core_temp_stbl  90 non-null     int64\n",
      " 6   bp_stbl         90 non-null     int64\n",
      " 7   comfort         90 non-null     int64\n",
      " 8   decision        90 non-null     int64\n",
      "dtypes: int64(9)\n",
      "memory usage: 6.5 KB\n"
     ]
    }
   ],
   "source": [
    "df.info()"
   ]
  },
  {
   "cell_type": "code",
   "execution_count": 297,
   "metadata": {
    "colab": {
     "base_uri": "https://localhost:8080/",
     "height": 206
    },
    "executionInfo": {
     "elapsed": 772,
     "status": "ok",
     "timestamp": 1664822064842,
     "user": {
      "displayName": "Shreyash Jagdale",
      "userId": "16622866640788809189"
     },
     "user_tz": -330
    },
    "id": "v7IYgUh5mctP",
    "outputId": "1e486633-66e9-4738-cbb6-ccc61a75dc1f"
   },
   "outputs": [
    {
     "data": {
      "text/html": [
       "\n",
       "  <div id=\"df-e1a1c037-c579-4415-bb5a-b7c0c66f3909\">\n",
       "    <div class=\"colab-df-container\">\n",
       "      <div>\n",
       "<style scoped>\n",
       "    .dataframe tbody tr th:only-of-type {\n",
       "        vertical-align: middle;\n",
       "    }\n",
       "\n",
       "    .dataframe tbody tr th {\n",
       "        vertical-align: top;\n",
       "    }\n",
       "\n",
       "    .dataframe thead th {\n",
       "        text-align: right;\n",
       "    }\n",
       "</style>\n",
       "<table border=\"1\" class=\"dataframe\">\n",
       "  <thead>\n",
       "    <tr style=\"text-align: right;\">\n",
       "      <th></th>\n",
       "      <th>core_temp</th>\n",
       "      <th>surf_temp</th>\n",
       "      <th>o2_satur</th>\n",
       "      <th>bp</th>\n",
       "      <th>surf_temp_stbl</th>\n",
       "      <th>core_temp_stbl</th>\n",
       "      <th>bp_stbl</th>\n",
       "      <th>comfort</th>\n",
       "    </tr>\n",
       "  </thead>\n",
       "  <tbody>\n",
       "    <tr>\n",
       "      <th>0</th>\n",
       "      <td>0.112509</td>\n",
       "      <td>-1.345166</td>\n",
       "      <td>1.045478</td>\n",
       "      <td>-0.570352</td>\n",
       "      <td>1.0</td>\n",
       "      <td>0.284975</td>\n",
       "      <td>-0.570352</td>\n",
       "      <td>1.810021</td>\n",
       "    </tr>\n",
       "    <tr>\n",
       "      <th>1</th>\n",
       "      <td>0.112509</td>\n",
       "      <td>1.607638</td>\n",
       "      <td>1.045478</td>\n",
       "      <td>1.330821</td>\n",
       "      <td>1.0</td>\n",
       "      <td>0.284975</td>\n",
       "      <td>1.330821</td>\n",
       "      <td>-0.403320</td>\n",
       "    </tr>\n",
       "    <tr>\n",
       "      <th>2</th>\n",
       "      <td>1.800141</td>\n",
       "      <td>-1.345166</td>\n",
       "      <td>1.045478</td>\n",
       "      <td>1.330821</td>\n",
       "      <td>1.0</td>\n",
       "      <td>0.284975</td>\n",
       "      <td>1.330821</td>\n",
       "      <td>-0.403320</td>\n",
       "    </tr>\n",
       "    <tr>\n",
       "      <th>3</th>\n",
       "      <td>0.112509</td>\n",
       "      <td>-1.345166</td>\n",
       "      <td>-0.956501</td>\n",
       "      <td>1.330821</td>\n",
       "      <td>1.0</td>\n",
       "      <td>-3.660837</td>\n",
       "      <td>1.330821</td>\n",
       "      <td>1.810021</td>\n",
       "    </tr>\n",
       "    <tr>\n",
       "      <th>4</th>\n",
       "      <td>0.112509</td>\n",
       "      <td>0.131236</td>\n",
       "      <td>1.045478</td>\n",
       "      <td>1.330821</td>\n",
       "      <td>1.0</td>\n",
       "      <td>0.284975</td>\n",
       "      <td>1.330821</td>\n",
       "      <td>-0.403320</td>\n",
       "    </tr>\n",
       "  </tbody>\n",
       "</table>\n",
       "</div>\n",
       "      <button class=\"colab-df-convert\" onclick=\"convertToInteractive('df-e1a1c037-c579-4415-bb5a-b7c0c66f3909')\"\n",
       "              title=\"Convert this dataframe to an interactive table.\"\n",
       "              style=\"display:none;\">\n",
       "        \n",
       "  <svg xmlns=\"http://www.w3.org/2000/svg\" height=\"24px\"viewBox=\"0 0 24 24\"\n",
       "       width=\"24px\">\n",
       "    <path d=\"M0 0h24v24H0V0z\" fill=\"none\"/>\n",
       "    <path d=\"M18.56 5.44l.94 2.06.94-2.06 2.06-.94-2.06-.94-.94-2.06-.94 2.06-2.06.94zm-11 1L8.5 8.5l.94-2.06 2.06-.94-2.06-.94L8.5 2.5l-.94 2.06-2.06.94zm10 10l.94 2.06.94-2.06 2.06-.94-2.06-.94-.94-2.06-.94 2.06-2.06.94z\"/><path d=\"M17.41 7.96l-1.37-1.37c-.4-.4-.92-.59-1.43-.59-.52 0-1.04.2-1.43.59L10.3 9.45l-7.72 7.72c-.78.78-.78 2.05 0 2.83L4 21.41c.39.39.9.59 1.41.59.51 0 1.02-.2 1.41-.59l7.78-7.78 2.81-2.81c.8-.78.8-2.07 0-2.86zM5.41 20L4 18.59l7.72-7.72 1.47 1.35L5.41 20z\"/>\n",
       "  </svg>\n",
       "      </button>\n",
       "      \n",
       "  <style>\n",
       "    .colab-df-container {\n",
       "      display:flex;\n",
       "      flex-wrap:wrap;\n",
       "      gap: 12px;\n",
       "    }\n",
       "\n",
       "    .colab-df-convert {\n",
       "      background-color: #E8F0FE;\n",
       "      border: none;\n",
       "      border-radius: 50%;\n",
       "      cursor: pointer;\n",
       "      display: none;\n",
       "      fill: #1967D2;\n",
       "      height: 32px;\n",
       "      padding: 0 0 0 0;\n",
       "      width: 32px;\n",
       "    }\n",
       "\n",
       "    .colab-df-convert:hover {\n",
       "      background-color: #E2EBFA;\n",
       "      box-shadow: 0px 1px 2px rgba(60, 64, 67, 0.3), 0px 1px 3px 1px rgba(60, 64, 67, 0.15);\n",
       "      fill: #174EA6;\n",
       "    }\n",
       "\n",
       "    [theme=dark] .colab-df-convert {\n",
       "      background-color: #3B4455;\n",
       "      fill: #D2E3FC;\n",
       "    }\n",
       "\n",
       "    [theme=dark] .colab-df-convert:hover {\n",
       "      background-color: #434B5C;\n",
       "      box-shadow: 0px 1px 3px 1px rgba(0, 0, 0, 0.15);\n",
       "      filter: drop-shadow(0px 1px 2px rgba(0, 0, 0, 0.3));\n",
       "      fill: #FFFFFF;\n",
       "    }\n",
       "  </style>\n",
       "\n",
       "      <script>\n",
       "        const buttonEl =\n",
       "          document.querySelector('#df-e1a1c037-c579-4415-bb5a-b7c0c66f3909 button.colab-df-convert');\n",
       "        buttonEl.style.display =\n",
       "          google.colab.kernel.accessAllowed ? 'block' : 'none';\n",
       "\n",
       "        async function convertToInteractive(key) {\n",
       "          const element = document.querySelector('#df-e1a1c037-c579-4415-bb5a-b7c0c66f3909');\n",
       "          const dataTable =\n",
       "            await google.colab.kernel.invokeFunction('convertToInteractive',\n",
       "                                                     [key], {});\n",
       "          if (!dataTable) return;\n",
       "\n",
       "          const docLinkHtml = 'Like what you see? Visit the ' +\n",
       "            '<a target=\"_blank\" href=https://colab.research.google.com/notebooks/data_table.ipynb>data table notebook</a>'\n",
       "            + ' to learn more about interactive tables.';\n",
       "          element.innerHTML = '';\n",
       "          dataTable['output_type'] = 'display_data';\n",
       "          await google.colab.output.renderOutput(dataTable, element);\n",
       "          const docLink = document.createElement('div');\n",
       "          docLink.innerHTML = docLinkHtml;\n",
       "          element.appendChild(docLink);\n",
       "        }\n",
       "      </script>\n",
       "    </div>\n",
       "  </div>\n",
       "  "
      ],
      "text/plain": [
       "   core_temp  surf_temp  o2_satur        bp  surf_temp_stbl  core_temp_stbl  \\\n",
       "0   0.112509  -1.345166  1.045478 -0.570352             1.0        0.284975   \n",
       "1   0.112509   1.607638  1.045478  1.330821             1.0        0.284975   \n",
       "2   1.800141  -1.345166  1.045478  1.330821             1.0        0.284975   \n",
       "3   0.112509  -1.345166 -0.956501  1.330821             1.0       -3.660837   \n",
       "4   0.112509   0.131236  1.045478  1.330821             1.0        0.284975   \n",
       "\n",
       "    bp_stbl   comfort  \n",
       "0 -0.570352  1.810021  \n",
       "1  1.330821 -0.403320  \n",
       "2  1.330821 -0.403320  \n",
       "3  1.330821  1.810021  \n",
       "4  1.330821 -0.403320  "
      ]
     },
     "execution_count": 297,
     "metadata": {},
     "output_type": "execute_result"
    }
   ],
   "source": [
    "from sklearn.preprocessing import StandardScaler\n",
    " \n",
    "scaler = StandardScaler()\n",
    " \n",
    "scaler.fit(df.drop('decision', axis = 1))\n",
    "scaled_features = scaler.transform(df.drop('decision', axis = 1))\n",
    " \n",
    "df_feat = pd.DataFrame(scaled_features, columns = df.columns[:-1])\n",
    "df_feat.head()"
   ]
  },
  {
   "cell_type": "code",
   "execution_count": 298,
   "metadata": {
    "executionInfo": {
     "elapsed": 9,
     "status": "ok",
     "timestamp": 1664822066077,
     "user": {
      "displayName": "Shreyash Jagdale",
      "userId": "16622866640788809189"
     },
     "user_tz": -330
    },
    "id": "YpDgLT7oBO0p"
   },
   "outputs": [],
   "source": [
    "independent_variables = list(set(df_feat.columns.to_list()))"
   ]
  },
  {
   "cell_type": "code",
   "execution_count": 464,
   "metadata": {
    "executionInfo": {
     "elapsed": 793,
     "status": "ok",
     "timestamp": 1664823185411,
     "user": {
      "displayName": "Shreyash Jagdale",
      "userId": "16622866640788809189"
     },
     "user_tz": -330
    },
    "id": "du465qYahx1g"
   },
   "outputs": [],
   "source": [
    "X_train, X_test, y_train, y_test = train_test_split(\n",
    "      scaled_features, df['decision'], test_size = 0.25)"
   ]
  },
  {
   "cell_type": "code",
   "execution_count": 465,
   "metadata": {
    "colab": {
     "base_uri": "https://localhost:8080/"
    },
    "executionInfo": {
     "elapsed": 11,
     "status": "ok",
     "timestamp": 1664823187464,
     "user": {
      "displayName": "Shreyash Jagdale",
      "userId": "16622866640788809189"
     },
     "user_tz": -330
    },
    "id": "qkBBX_-OxbgG",
    "outputId": "0f0ce1fe-7d09-414f-e163-d5d2b8a261d5"
   },
   "outputs": [
    {
     "data": {
      "text/plain": [
       "array([[ 0.11250879,  1.60763785,  1.04547753,  1.33082093,  1.        ,\n",
       "         0.28497536,  1.33082093, -0.40331988],\n",
       "       [ 0.11250879,  0.13123574, -0.95650071,  1.33082093, -1.        ,\n",
       "         0.28497536,  1.33082093, -0.40331988],\n",
       "       [ 0.11250879,  0.13123574, -0.95650071, -0.57035183,  1.        ,\n",
       "         0.28497536, -0.57035183, -0.40331988],\n",
       "       [ 1.80014064,  1.60763785, -0.95650071,  1.33082093, -1.        ,\n",
       "         0.28497536,  1.33082093,  1.81002092],\n",
       "       [ 0.11250879, -1.34516637, -0.95650071, -0.57035183,  1.        ,\n",
       "         0.28497536, -0.57035183, -0.40331988],\n",
       "       [ 0.11250879,  0.13123574, -0.95650071,  1.33082093,  1.        ,\n",
       "         0.28497536,  1.33082093, -0.40331988],\n",
       "       [ 0.11250879, -1.34516637,  1.04547753, -0.57035183,  1.        ,\n",
       "         0.28497536, -0.57035183,  1.81002092],\n",
       "       [-1.57512306,  1.60763785, -0.95650071,  1.33082093, -1.        ,\n",
       "         0.28497536,  1.33082093,  1.81002092],\n",
       "       [ 0.11250879,  1.60763785, -0.95650071, -0.57035183,  1.        ,\n",
       "         0.28497536, -0.57035183, -0.40331988],\n",
       "       [ 0.11250879,  0.13123574, -0.95650071, -0.57035183,  1.        ,\n",
       "         0.28497536, -0.57035183, -0.40331988],\n",
       "       [ 1.80014064,  1.60763785,  1.04547753,  1.33082093, -1.        ,\n",
       "         0.28497536,  1.33082093, -0.40331988],\n",
       "       [ 1.80014064,  1.60763785,  1.04547753,  1.33082093, -1.        ,\n",
       "         0.28497536,  1.33082093,  1.81002092],\n",
       "       [-1.57512306,  0.13123574, -0.95650071, -0.57035183,  1.        ,\n",
       "         0.28497536, -0.57035183,  1.81002092],\n",
       "       [ 0.11250879,  0.13123574, -0.95650071,  1.33082093, -1.        ,\n",
       "         0.28497536,  1.33082093, -0.40331988],\n",
       "       [ 1.80014064,  1.60763785,  1.04547753,  1.33082093,  1.        ,\n",
       "         0.28497536,  1.33082093, -0.40331988],\n",
       "       [ 0.11250879,  0.13123574,  1.04547753, -0.57035183, -1.        ,\n",
       "         0.28497536, -0.57035183, -0.40331988],\n",
       "       [ 0.11250879,  0.13123574,  1.04547753, -0.57035183,  1.        ,\n",
       "         0.28497536, -0.57035183,  1.81002092],\n",
       "       [ 1.80014064,  1.60763785, -0.95650071, -0.57035183,  1.        ,\n",
       "         0.28497536, -0.57035183, -0.40331988],\n",
       "       [ 0.11250879,  0.13123574, -0.95650071, -0.57035183, -1.        ,\n",
       "         0.28497536, -0.57035183, -0.40331988],\n",
       "       [ 0.11250879,  1.60763785, -0.95650071, -0.57035183, -1.        ,\n",
       "         0.28497536, -0.57035183,  1.81002092],\n",
       "       [-1.57512306, -1.34516637, -0.95650071,  1.33082093,  1.        ,\n",
       "         0.28497536,  1.33082093, -0.40331988],\n",
       "       [ 0.11250879, -1.34516637, -0.95650071,  1.33082093,  1.        ,\n",
       "         0.28497536,  1.33082093, -0.40331988],\n",
       "       [ 0.11250879,  0.13123574, -0.95650071,  1.33082093,  1.        ,\n",
       "         0.28497536,  1.33082093, -0.40331988]])"
      ]
     },
     "execution_count": 465,
     "metadata": {},
     "output_type": "execute_result"
    }
   ],
   "source": [
    "X_test"
   ]
  },
  {
   "cell_type": "code",
   "execution_count": 466,
   "metadata": {
    "colab": {
     "base_uri": "https://localhost:8080/"
    },
    "executionInfo": {
     "elapsed": 19,
     "status": "ok",
     "timestamp": 1664823196768,
     "user": {
      "displayName": "Shreyash Jagdale",
      "userId": "16622866640788809189"
     },
     "user_tz": -330
    },
    "id": "t6adBOkEhx6t",
    "outputId": "5cd27042-66c0-403f-c16e-0fe0b01f5692"
   },
   "outputs": [
    {
     "data": {
      "text/plain": [
       "LogisticRegression(max_iter=10000, multi_class='multinomial')"
      ]
     },
     "execution_count": 466,
     "metadata": {},
     "output_type": "execute_result"
    }
   ],
   "source": [
    "from sklearn.linear_model import LogisticRegression\n",
    "\n",
    "model = LogisticRegression(multi_class='multinomial',fit_intercept=True, max_iter=10000)\n",
    "model.fit(X_train, y_train)"
   ]
  },
  {
   "cell_type": "code",
   "execution_count": 467,
   "metadata": {
    "executionInfo": {
     "elapsed": 9,
     "status": "ok",
     "timestamp": 1664823196769,
     "user": {
      "displayName": "Shreyash Jagdale",
      "userId": "16622866640788809189"
     },
     "user_tz": -330
    },
    "id": "YayDgMmtv8MP"
   },
   "outputs": [],
   "source": [
    "train_preds = model.predict_proba(X_train)\n",
    "test_preds = model.predict_proba(X_test)"
   ]
  },
  {
   "cell_type": "code",
   "execution_count": 468,
   "metadata": {
    "executionInfo": {
     "elapsed": 11,
     "status": "ok",
     "timestamp": 1664823196771,
     "user": {
      "displayName": "Shreyash Jagdale",
      "userId": "16622866640788809189"
     },
     "user_tz": -330
    },
    "id": "ZgLLmEm9wmbj"
   },
   "outputs": [],
   "source": [
    "train_class_preds = model.predict(X_train)\n",
    "test_class_preds = model.predict(X_test)"
   ]
  },
  {
   "cell_type": "code",
   "execution_count": 469,
   "metadata": {
    "executionInfo": {
     "elapsed": 38,
     "status": "ok",
     "timestamp": 1664823198642,
     "user": {
      "displayName": "Shreyash Jagdale",
      "userId": "16622866640788809189"
     },
     "user_tz": -330
    },
    "id": "RTsDRJMuyGYB"
   },
   "outputs": [],
   "source": [
    "table = pd.DataFrame(test_class_preds,y_test).reset_index()\n",
    "table.columns = ['predicted', 'actual']"
   ]
  },
  {
   "cell_type": "code",
   "execution_count": 470,
   "metadata": {
    "colab": {
     "base_uri": "https://localhost:8080/",
     "height": 771
    },
    "executionInfo": {
     "elapsed": 38,
     "status": "ok",
     "timestamp": 1664823198644,
     "user": {
      "displayName": "Shreyash Jagdale",
      "userId": "16622866640788809189"
     },
     "user_tz": -330
    },
    "id": "m9cVGeCyyyjQ",
    "outputId": "95414333-b973-434b-9eb4-6559e380612b"
   },
   "outputs": [
    {
     "data": {
      "text/html": [
       "\n",
       "  <div id=\"df-a8a09f08-b1a5-4591-9ab0-f05caf20dbf2\">\n",
       "    <div class=\"colab-df-container\">\n",
       "      <div>\n",
       "<style scoped>\n",
       "    .dataframe tbody tr th:only-of-type {\n",
       "        vertical-align: middle;\n",
       "    }\n",
       "\n",
       "    .dataframe tbody tr th {\n",
       "        vertical-align: top;\n",
       "    }\n",
       "\n",
       "    .dataframe thead th {\n",
       "        text-align: right;\n",
       "    }\n",
       "</style>\n",
       "<table border=\"1\" class=\"dataframe\">\n",
       "  <thead>\n",
       "    <tr style=\"text-align: right;\">\n",
       "      <th></th>\n",
       "      <th>predicted</th>\n",
       "      <th>actual</th>\n",
       "    </tr>\n",
       "  </thead>\n",
       "  <tbody>\n",
       "    <tr>\n",
       "      <th>0</th>\n",
       "      <td>2</td>\n",
       "      <td>1</td>\n",
       "    </tr>\n",
       "    <tr>\n",
       "      <th>1</th>\n",
       "      <td>1</td>\n",
       "      <td>1</td>\n",
       "    </tr>\n",
       "    <tr>\n",
       "      <th>2</th>\n",
       "      <td>2</td>\n",
       "      <td>1</td>\n",
       "    </tr>\n",
       "    <tr>\n",
       "      <th>3</th>\n",
       "      <td>2</td>\n",
       "      <td>1</td>\n",
       "    </tr>\n",
       "    <tr>\n",
       "      <th>4</th>\n",
       "      <td>1</td>\n",
       "      <td>1</td>\n",
       "    </tr>\n",
       "    <tr>\n",
       "      <th>5</th>\n",
       "      <td>1</td>\n",
       "      <td>1</td>\n",
       "    </tr>\n",
       "    <tr>\n",
       "      <th>6</th>\n",
       "      <td>1</td>\n",
       "      <td>1</td>\n",
       "    </tr>\n",
       "    <tr>\n",
       "      <th>7</th>\n",
       "      <td>1</td>\n",
       "      <td>1</td>\n",
       "    </tr>\n",
       "    <tr>\n",
       "      <th>8</th>\n",
       "      <td>2</td>\n",
       "      <td>1</td>\n",
       "    </tr>\n",
       "    <tr>\n",
       "      <th>9</th>\n",
       "      <td>1</td>\n",
       "      <td>1</td>\n",
       "    </tr>\n",
       "    <tr>\n",
       "      <th>10</th>\n",
       "      <td>1</td>\n",
       "      <td>1</td>\n",
       "    </tr>\n",
       "    <tr>\n",
       "      <th>11</th>\n",
       "      <td>1</td>\n",
       "      <td>1</td>\n",
       "    </tr>\n",
       "    <tr>\n",
       "      <th>12</th>\n",
       "      <td>2</td>\n",
       "      <td>1</td>\n",
       "    </tr>\n",
       "    <tr>\n",
       "      <th>13</th>\n",
       "      <td>1</td>\n",
       "      <td>1</td>\n",
       "    </tr>\n",
       "    <tr>\n",
       "      <th>14</th>\n",
       "      <td>1</td>\n",
       "      <td>1</td>\n",
       "    </tr>\n",
       "    <tr>\n",
       "      <th>15</th>\n",
       "      <td>1</td>\n",
       "      <td>1</td>\n",
       "    </tr>\n",
       "    <tr>\n",
       "      <th>16</th>\n",
       "      <td>1</td>\n",
       "      <td>1</td>\n",
       "    </tr>\n",
       "    <tr>\n",
       "      <th>17</th>\n",
       "      <td>1</td>\n",
       "      <td>1</td>\n",
       "    </tr>\n",
       "    <tr>\n",
       "      <th>18</th>\n",
       "      <td>1</td>\n",
       "      <td>1</td>\n",
       "    </tr>\n",
       "    <tr>\n",
       "      <th>19</th>\n",
       "      <td>1</td>\n",
       "      <td>1</td>\n",
       "    </tr>\n",
       "    <tr>\n",
       "      <th>20</th>\n",
       "      <td>1</td>\n",
       "      <td>1</td>\n",
       "    </tr>\n",
       "    <tr>\n",
       "      <th>21</th>\n",
       "      <td>1</td>\n",
       "      <td>1</td>\n",
       "    </tr>\n",
       "    <tr>\n",
       "      <th>22</th>\n",
       "      <td>2</td>\n",
       "      <td>1</td>\n",
       "    </tr>\n",
       "  </tbody>\n",
       "</table>\n",
       "</div>\n",
       "      <button class=\"colab-df-convert\" onclick=\"convertToInteractive('df-a8a09f08-b1a5-4591-9ab0-f05caf20dbf2')\"\n",
       "              title=\"Convert this dataframe to an interactive table.\"\n",
       "              style=\"display:none;\">\n",
       "        \n",
       "  <svg xmlns=\"http://www.w3.org/2000/svg\" height=\"24px\"viewBox=\"0 0 24 24\"\n",
       "       width=\"24px\">\n",
       "    <path d=\"M0 0h24v24H0V0z\" fill=\"none\"/>\n",
       "    <path d=\"M18.56 5.44l.94 2.06.94-2.06 2.06-.94-2.06-.94-.94-2.06-.94 2.06-2.06.94zm-11 1L8.5 8.5l.94-2.06 2.06-.94-2.06-.94L8.5 2.5l-.94 2.06-2.06.94zm10 10l.94 2.06.94-2.06 2.06-.94-2.06-.94-.94-2.06-.94 2.06-2.06.94z\"/><path d=\"M17.41 7.96l-1.37-1.37c-.4-.4-.92-.59-1.43-.59-.52 0-1.04.2-1.43.59L10.3 9.45l-7.72 7.72c-.78.78-.78 2.05 0 2.83L4 21.41c.39.39.9.59 1.41.59.51 0 1.02-.2 1.41-.59l7.78-7.78 2.81-2.81c.8-.78.8-2.07 0-2.86zM5.41 20L4 18.59l7.72-7.72 1.47 1.35L5.41 20z\"/>\n",
       "  </svg>\n",
       "      </button>\n",
       "      \n",
       "  <style>\n",
       "    .colab-df-container {\n",
       "      display:flex;\n",
       "      flex-wrap:wrap;\n",
       "      gap: 12px;\n",
       "    }\n",
       "\n",
       "    .colab-df-convert {\n",
       "      background-color: #E8F0FE;\n",
       "      border: none;\n",
       "      border-radius: 50%;\n",
       "      cursor: pointer;\n",
       "      display: none;\n",
       "      fill: #1967D2;\n",
       "      height: 32px;\n",
       "      padding: 0 0 0 0;\n",
       "      width: 32px;\n",
       "    }\n",
       "\n",
       "    .colab-df-convert:hover {\n",
       "      background-color: #E2EBFA;\n",
       "      box-shadow: 0px 1px 2px rgba(60, 64, 67, 0.3), 0px 1px 3px 1px rgba(60, 64, 67, 0.15);\n",
       "      fill: #174EA6;\n",
       "    }\n",
       "\n",
       "    [theme=dark] .colab-df-convert {\n",
       "      background-color: #3B4455;\n",
       "      fill: #D2E3FC;\n",
       "    }\n",
       "\n",
       "    [theme=dark] .colab-df-convert:hover {\n",
       "      background-color: #434B5C;\n",
       "      box-shadow: 0px 1px 3px 1px rgba(0, 0, 0, 0.15);\n",
       "      filter: drop-shadow(0px 1px 2px rgba(0, 0, 0, 0.3));\n",
       "      fill: #FFFFFF;\n",
       "    }\n",
       "  </style>\n",
       "\n",
       "      <script>\n",
       "        const buttonEl =\n",
       "          document.querySelector('#df-a8a09f08-b1a5-4591-9ab0-f05caf20dbf2 button.colab-df-convert');\n",
       "        buttonEl.style.display =\n",
       "          google.colab.kernel.accessAllowed ? 'block' : 'none';\n",
       "\n",
       "        async function convertToInteractive(key) {\n",
       "          const element = document.querySelector('#df-a8a09f08-b1a5-4591-9ab0-f05caf20dbf2');\n",
       "          const dataTable =\n",
       "            await google.colab.kernel.invokeFunction('convertToInteractive',\n",
       "                                                     [key], {});\n",
       "          if (!dataTable) return;\n",
       "\n",
       "          const docLinkHtml = 'Like what you see? Visit the ' +\n",
       "            '<a target=\"_blank\" href=https://colab.research.google.com/notebooks/data_table.ipynb>data table notebook</a>'\n",
       "            + ' to learn more about interactive tables.';\n",
       "          element.innerHTML = '';\n",
       "          dataTable['output_type'] = 'display_data';\n",
       "          await google.colab.output.renderOutput(dataTable, element);\n",
       "          const docLink = document.createElement('div');\n",
       "          docLink.innerHTML = docLinkHtml;\n",
       "          element.appendChild(docLink);\n",
       "        }\n",
       "      </script>\n",
       "    </div>\n",
       "  </div>\n",
       "  "
      ],
      "text/plain": [
       "    predicted  actual\n",
       "0           2       1\n",
       "1           1       1\n",
       "2           2       1\n",
       "3           2       1\n",
       "4           1       1\n",
       "5           1       1\n",
       "6           1       1\n",
       "7           1       1\n",
       "8           2       1\n",
       "9           1       1\n",
       "10          1       1\n",
       "11          1       1\n",
       "12          2       1\n",
       "13          1       1\n",
       "14          1       1\n",
       "15          1       1\n",
       "16          1       1\n",
       "17          1       1\n",
       "18          1       1\n",
       "19          1       1\n",
       "20          1       1\n",
       "21          1       1\n",
       "22          2       1"
      ]
     },
     "execution_count": 470,
     "metadata": {},
     "output_type": "execute_result"
    }
   ],
   "source": [
    "table"
   ]
  },
  {
   "cell_type": "code",
   "execution_count": 471,
   "metadata": {
    "executionInfo": {
     "elapsed": 44,
     "status": "ok",
     "timestamp": 1664823198657,
     "user": {
      "displayName": "Shreyash Jagdale",
      "userId": "16622866640788809189"
     },
     "user_tz": -330
    },
    "id": "WfhteHbyurbD"
   },
   "outputs": [],
   "source": [
    "from sklearn.metrics import accuracy_score, confusion_matrix"
   ]
  },
  {
   "cell_type": "code",
   "execution_count": 472,
   "metadata": {
    "colab": {
     "base_uri": "https://localhost:8080/"
    },
    "executionInfo": {
     "elapsed": 18,
     "status": "ok",
     "timestamp": 1664823199361,
     "user": {
      "displayName": "Shreyash Jagdale",
      "userId": "16622866640788809189"
     },
     "user_tz": -330
    },
    "id": "qtkArmHFvuSq",
    "outputId": "a4c32776-1ecb-4109-8694-0372bca3d045"
   },
   "outputs": [
    {
     "name": "stdout",
     "output_type": "stream",
     "text": [
      "The accuracy on train data is  0.6865671641791045\n",
      "The accuracy on test data is  0.7391304347826086\n"
     ]
    }
   ],
   "source": [
    "train_accuracy = accuracy_score(train_class_preds,y_train)\n",
    "test_accuracy = accuracy_score(test_class_preds,y_test)\n",
    "\n",
    "print(\"The accuracy on train data is \", train_accuracy)\n",
    "print(\"The accuracy on test data is \", test_accuracy)"
   ]
  },
  {
   "cell_type": "code",
   "execution_count": 473,
   "metadata": {
    "colab": {
     "base_uri": "https://localhost:8080/"
    },
    "executionInfo": {
     "elapsed": 16,
     "status": "ok",
     "timestamp": 1664823204378,
     "user": {
      "displayName": "Shreyash Jagdale",
      "userId": "16622866640788809189"
     },
     "user_tz": -330
    },
    "id": "FZsvPPVd0KhH",
    "outputId": "84c4c54d-ffdf-41f5-b386-f8b612aca587"
   },
   "outputs": [
    {
     "name": "stdout",
     "output_type": "stream",
     "text": [
      "[[17  0]\n",
      " [ 6  0]]\n"
     ]
    }
   ],
   "source": [
    "cm = confusion_matrix(y_test, test_class_preds)\n",
    "print(cm)"
   ]
  },
  {
   "cell_type": "code",
   "execution_count": 474,
   "metadata": {
    "colab": {
     "base_uri": "https://localhost:8080/",
     "height": 489
    },
    "executionInfo": {
     "elapsed": 1999,
     "status": "ok",
     "timestamp": 1664823210273,
     "user": {
      "displayName": "Shreyash Jagdale",
      "userId": "16622866640788809189"
     },
     "user_tz": -330
    },
    "id": "QGenzQqf38UC",
    "outputId": "a62c6703-5057-4a7b-b1d9-da74a10fb09e"
   },
   "outputs": [
    {
     "data": {
      "text/plain": [
       "<matplotlib.axes._subplots.AxesSubplot at 0x7fb3f3aa7ad0>"
      ]
     },
     "execution_count": 474,
     "metadata": {},
     "output_type": "execute_result"
    },
    {
     "data": {
      "image/png": "[encoded data removed]",
      "text/plain": [
       "<Figure size 576x576 with 2 Axes>"
      ]
     },
     "metadata": {
      "needs_background": "light"
     },
     "output_type": "display_data"
    }
   ],
   "source": [
    "sns.heatmap(cm,square = True,annot = True)"
   ]
  },
  {
   "cell_type": "code",
   "execution_count": 116,
   "metadata": {
    "executionInfo": {
     "elapsed": 7,
     "status": "ok",
     "timestamp": 1664820859799,
     "user": {
      "displayName": "Shreyash Jagdale",
      "userId": "16622866640788809189"
     },
     "user_tz": -330
    },
    "id": "y6Ww33BM5260"
   },
   "outputs": [],
   "source": []
  },
  {
   "cell_type": "code",
   "execution_count": 411,
   "metadata": {
    "executionInfo": {
     "elapsed": 1022,
     "status": "ok",
     "timestamp": 1664822615291,
     "user": {
      "displayName": "Shreyash Jagdale",
      "userId": "16622866640788809189"
     },
     "user_tz": -330
    },
    "id": "eHRRbKG153B9"
   },
   "outputs": [],
   "source": [
    "from sklearn.tree import DecisionTreeClassifier,export_graphviz\n",
    "from sklearn import tree\n",
    "from IPython.display import SVG\n",
    "from graphviz import Source\n",
    "from IPython.display import display"
   ]
  },
  {
   "cell_type": "code",
   "execution_count": 417,
   "metadata": {
    "colab": {
     "base_uri": "https://localhost:8080/"
    },
    "executionInfo": {
     "elapsed": 1025,
     "status": "ok",
     "timestamp": 1664822637440,
     "user": {
      "displayName": "Shreyash Jagdale",
      "userId": "16622866640788809189"
     },
     "user_tz": -330
    },
    "id": "8YjLN9gQ53uV",
    "outputId": "59c99b33-dde5-4b65-e745-51ca0c07110b"
   },
   "outputs": [
    {
     "data": {
      "text/plain": [
       "DecisionTreeClassifier(criterion='entropy', max_leaf_nodes=4, random_state=0)"
      ]
     },
     "execution_count": 417,
     "metadata": {},
     "output_type": "execute_result"
    }
   ],
   "source": [
    "classf = DecisionTreeClassifier(criterion='entropy', max_leaf_nodes=4, random_state=0)\n",
    "classf.fit(X_train,y_train)"
   ]
  },
  {
   "cell_type": "code",
   "execution_count": 418,
   "metadata": {
    "executionInfo": {
     "elapsed": 10,
     "status": "ok",
     "timestamp": 1664822640100,
     "user": {
      "displayName": "Shreyash Jagdale",
      "userId": "16622866640788809189"
     },
     "user_tz": -330
    },
    "id": "i9QFYZqT6IWQ"
   },
   "outputs": [],
   "source": [
    "y_predicted = classf.predict(X_test)"
   ]
  },
  {
   "cell_type": "code",
   "execution_count": 419,
   "metadata": {
    "colab": {
     "base_uri": "https://localhost:8080/"
    },
    "executionInfo": {
     "elapsed": 10,
     "status": "ok",
     "timestamp": 1664822640102,
     "user": {
      "displayName": "Shreyash Jagdale",
      "userId": "16622866640788809189"
     },
     "user_tz": -330
    },
    "id": "8w2DlAcm6kJF",
    "outputId": "4ed101fe-f049-4697-8ad2-8e1fd50c09a8"
   },
   "outputs": [
    {
     "data": {
      "text/plain": [
       "array([1, 1, 1, 1, 1, 1, 1, 1, 1, 1, 1, 1, 1, 1, 1, 1, 1, 1, 1, 1, 1, 1,\n",
       "       1])"
      ]
     },
     "execution_count": 419,
     "metadata": {},
     "output_type": "execute_result"
    }
   ],
   "source": [
    "y_predicted"
   ]
  },
  {
   "cell_type": "code",
   "execution_count": 420,
   "metadata": {
    "colab": {
     "base_uri": "https://localhost:8080/"
    },
    "executionInfo": {
     "elapsed": 12,
     "status": "ok",
     "timestamp": 1664822640649,
     "user": {
      "displayName": "Shreyash Jagdale",
      "userId": "16622866640788809189"
     },
     "user_tz": -330
    },
    "id": "FHEvzy8TCX0Q",
    "outputId": "b749ff82-d641-4125-c889-e5ec665e4196"
   },
   "outputs": [
    {
     "data": {
      "text/plain": [
       "0.8260869565217391"
      ]
     },
     "execution_count": 420,
     "metadata": {},
     "output_type": "execute_result"
    }
   ],
   "source": [
    "accuracy_score(y_predicted , y_test)"
   ]
  },
  {
   "cell_type": "code",
   "execution_count": 421,
   "metadata": {
    "colab": {
     "base_uri": "https://localhost:8080/",
     "height": 599
    },
    "executionInfo": {
     "elapsed": 776,
     "status": "ok",
     "timestamp": 1664822644419,
     "user": {
      "displayName": "Shreyash Jagdale",
      "userId": "16622866640788809189"
     },
     "user_tz": -330
    },
    "id": "UU6Ur4po9x-E",
    "outputId": "96198029-4f42-40b8-9a6a-1ee3c1f53831"
   },
   "outputs": [
    {
     "data": {
      "image/svg+xml": [
       "<svg height=\"433pt\" viewBox=\"0.00 0.00 373.00 433.00\" width=\"373pt\" xmlns=\"http://www.w3.org/2000/svg\" xmlns:xlink=\"http://www.w3.org/1999/xlink\">\n",
       "<g class=\"graph\" id=\"graph0\" transform=\"scale(1 1) rotate(0) translate(4 429)\">\n",
       "<title>Tree</title>\n",
       "<polygon fill=\"#ffffff\" points=\"-4,4 -4,-429 369,-429 369,4 -4,4\" stroke=\"transparent\"/>\n",
       "<!-- 0 -->\n",
       "<g class=\"node\" id=\"node1\">\n",
       "<title>0</title>\n",
       "<polygon fill=\"#96f1bc\" points=\"288.5,-425 146.5,-425 146.5,-342 288.5,-342 288.5,-425\" stroke=\"#000000\"/>\n",
       "<text fill=\"#000000\" font-family=\"Helvetica,sans-Serif\" font-size=\"14.00\" text-anchor=\"middle\" x=\"217.5\" y=\"-409.8\">surf_temp &lt;= 0.044</text>\n",
       "<text fill=\"#000000\" font-family=\"Helvetica,sans-Serif\" font-size=\"14.00\" text-anchor=\"middle\" x=\"217.5\" y=\"-394.8\">entropy = 1.058</text>\n",
       "<text fill=\"#000000\" font-family=\"Helvetica,sans-Serif\" font-size=\"14.00\" text-anchor=\"middle\" x=\"217.5\" y=\"-379.8\">samples = 67</text>\n",
       "<text fill=\"#000000\" font-family=\"Helvetica,sans-Serif\" font-size=\"14.00\" text-anchor=\"middle\" x=\"217.5\" y=\"-364.8\">value = [2, 45, 20]</text>\n",
       "<text fill=\"#000000\" font-family=\"Helvetica,sans-Serif\" font-size=\"14.00\" text-anchor=\"middle\" x=\"217.5\" y=\"-349.8\">class = 1</text>\n",
       "</g>\n",
       "<!-- 1 -->\n",
       "<g class=\"node\" id=\"node2\">\n",
       "<title>1</title>\n",
       "<polygon fill=\"#a4f3c5\" points=\"223.5,-306 41.5,-306 41.5,-223 223.5,-223 223.5,-306\" stroke=\"#000000\"/>\n",
       "<text fill=\"#000000\" font-family=\"Helvetica,sans-Serif\" font-size=\"14.00\" text-anchor=\"middle\" x=\"132.5\" y=\"-290.8\">core_temp_stbl &lt;= -1.067</text>\n",
       "<text fill=\"#000000\" font-family=\"Helvetica,sans-Serif\" font-size=\"14.00\" text-anchor=\"middle\" x=\"132.5\" y=\"-275.8\">entropy = 1.182</text>\n",
       "<text fill=\"#000000\" font-family=\"Helvetica,sans-Serif\" font-size=\"14.00\" text-anchor=\"middle\" x=\"132.5\" y=\"-260.8\">samples = 35</text>\n",
       "<text fill=\"#000000\" font-family=\"Helvetica,sans-Serif\" font-size=\"14.00\" text-anchor=\"middle\" x=\"132.5\" y=\"-245.8\">value = [2, 22, 11]</text>\n",
       "<text fill=\"#000000\" font-family=\"Helvetica,sans-Serif\" font-size=\"14.00\" text-anchor=\"middle\" x=\"132.5\" y=\"-230.8\">class = 1</text>\n",
       "</g>\n",
       "<!-- 0&#45;&gt;1 -->\n",
       "<g class=\"edge\" id=\"edge1\">\n",
       "<title>0-&gt;1</title>\n",
       "<path d=\"M187.7711,-341.8796C181.4667,-333.0534 174.749,-323.6485 168.2476,-314.5466\" fill=\"none\" stroke=\"#000000\"/>\n",
       "<polygon fill=\"#000000\" points=\"171.0163,-312.4011 162.3558,-306.2981 165.3201,-316.4698 171.0163,-312.4011\" stroke=\"#000000\"/>\n",
       "<text fill=\"#000000\" font-family=\"Helvetica,sans-Serif\" font-size=\"14.00\" text-anchor=\"middle\" x=\"158.2458\" y=\"-327.2579\">True</text>\n",
       "</g>\n",
       "<!-- 2 -->\n",
       "<g class=\"node\" id=\"node7\">\n",
       "<title>2</title>\n",
       "<polygon fill=\"#86efb2\" points=\"365,-298.5 242,-298.5 242,-230.5 365,-230.5 365,-298.5\" stroke=\"#000000\"/>\n",
       "<text fill=\"#000000\" font-family=\"Helvetica,sans-Serif\" font-size=\"14.00\" text-anchor=\"middle\" x=\"303.5\" y=\"-283.3\">entropy = 0.857</text>\n",
       "<text fill=\"#000000\" font-family=\"Helvetica,sans-Serif\" font-size=\"14.00\" text-anchor=\"middle\" x=\"303.5\" y=\"-268.3\">samples = 32</text>\n",
       "<text fill=\"#000000\" font-family=\"Helvetica,sans-Serif\" font-size=\"14.00\" text-anchor=\"middle\" x=\"303.5\" y=\"-253.3\">value = [0, 23, 9]</text>\n",
       "<text fill=\"#000000\" font-family=\"Helvetica,sans-Serif\" font-size=\"14.00\" text-anchor=\"middle\" x=\"303.5\" y=\"-238.3\">class = 1</text>\n",
       "</g>\n",
       "<!-- 0&#45;&gt;2 -->\n",
       "<g class=\"edge\" id=\"edge6\">\n",
       "<title>0-&gt;2</title>\n",
       "<path d=\"M247.5786,-341.8796C255.6843,-330.6636 264.4653,-318.5131 272.6143,-307.2372\" fill=\"none\" stroke=\"#000000\"/>\n",
       "<polygon fill=\"#000000\" points=\"275.6803,-308.9701 278.701,-298.8149 270.0068,-304.8698 275.6803,-308.9701\" stroke=\"#000000\"/>\n",
       "<text fill=\"#000000\" font-family=\"Helvetica,sans-Serif\" font-size=\"14.00\" text-anchor=\"middle\" x=\"282.6742\" y=\"-319.7972\">False</text>\n",
       "</g>\n",
       "<!-- 3 -->\n",
       "<g class=\"node\" id=\"node3\">\n",
       "<title>3</title>\n",
       "<polygon fill=\"#8139e5\" points=\"115,-179.5 0,-179.5 0,-111.5 115,-111.5 115,-179.5\" stroke=\"#000000\"/>\n",
       "<text fill=\"#000000\" font-family=\"Helvetica,sans-Serif\" font-size=\"14.00\" text-anchor=\"middle\" x=\"57.5\" y=\"-164.3\">entropy = 0.0</text>\n",
       "<text fill=\"#000000\" font-family=\"Helvetica,sans-Serif\" font-size=\"14.00\" text-anchor=\"middle\" x=\"57.5\" y=\"-149.3\">samples = 1</text>\n",
       "<text fill=\"#000000\" font-family=\"Helvetica,sans-Serif\" font-size=\"14.00\" text-anchor=\"middle\" x=\"57.5\" y=\"-134.3\">value = [0, 0, 1]</text>\n",
       "<text fill=\"#000000\" font-family=\"Helvetica,sans-Serif\" font-size=\"14.00\" text-anchor=\"middle\" x=\"57.5\" y=\"-119.3\">class = 2</text>\n",
       "</g>\n",
       "<!-- 1&#45;&gt;3 -->\n",
       "<g class=\"edge\" id=\"edge2\">\n",
       "<title>1-&gt;3</title>\n",
       "<path d=\"M106.2686,-222.8796C99.269,-211.7735 91.692,-199.7513 84.6444,-188.5691\" fill=\"none\" stroke=\"#000000\"/>\n",
       "<polygon fill=\"#000000\" points=\"87.42,-186.4087 79.1271,-179.8149 81.498,-190.1411 87.42,-186.4087\" stroke=\"#000000\"/>\n",
       "</g>\n",
       "<!-- 4 -->\n",
       "<g class=\"node\" id=\"node4\">\n",
       "<title>4</title>\n",
       "<polygon fill=\"#9cf2c0\" points=\"284,-187 133,-187 133,-104 284,-104 284,-187\" stroke=\"#000000\"/>\n",
       "<text fill=\"#000000\" font-family=\"Helvetica,sans-Serif\" font-size=\"14.00\" text-anchor=\"middle\" x=\"208.5\" y=\"-171.8\">core_temp &lt;= -0.731</text>\n",
       "<text fill=\"#000000\" font-family=\"Helvetica,sans-Serif\" font-size=\"14.00\" text-anchor=\"middle\" x=\"208.5\" y=\"-156.8\">entropy = 1.166</text>\n",
       "<text fill=\"#000000\" font-family=\"Helvetica,sans-Serif\" font-size=\"14.00\" text-anchor=\"middle\" x=\"208.5\" y=\"-141.8\">samples = 34</text>\n",
       "<text fill=\"#000000\" font-family=\"Helvetica,sans-Serif\" font-size=\"14.00\" text-anchor=\"middle\" x=\"208.5\" y=\"-126.8\">value = [2, 22, 10]</text>\n",
       "<text fill=\"#000000\" font-family=\"Helvetica,sans-Serif\" font-size=\"14.00\" text-anchor=\"middle\" x=\"208.5\" y=\"-111.8\">class = 1</text>\n",
       "</g>\n",
       "<!-- 1&#45;&gt;4 -->\n",
       "<g class=\"edge\" id=\"edge3\">\n",
       "<title>1-&gt;4</title>\n",
       "<path d=\"M159.0811,-222.8796C164.6605,-214.1434 170.6019,-204.8404 176.3595,-195.8253\" fill=\"none\" stroke=\"#000000\"/>\n",
       "<polygon fill=\"#000000\" points=\"179.3726,-197.6098 181.8054,-187.2981 173.4731,-193.8421 179.3726,-197.6098\" stroke=\"#000000\"/>\n",
       "</g>\n",
       "<!-- 5 -->\n",
       "<g class=\"node\" id=\"node5\">\n",
       "<title>5</title>\n",
       "<polygon fill=\"#72eca5\" points=\"197.5,-68 79.5,-68 79.5,0 197.5,0 197.5,-68\" stroke=\"#000000\"/>\n",
       "<text fill=\"#000000\" font-family=\"Helvetica,sans-Serif\" font-size=\"14.00\" text-anchor=\"middle\" x=\"138.5\" y=\"-52.8\">entropy = 1.061</text>\n",
       "<text fill=\"#000000\" font-family=\"Helvetica,sans-Serif\" font-size=\"14.00\" text-anchor=\"middle\" x=\"138.5\" y=\"-37.8\">samples = 8</text>\n",
       "<text fill=\"#000000\" font-family=\"Helvetica,sans-Serif\" font-size=\"14.00\" text-anchor=\"middle\" x=\"138.5\" y=\"-22.8\">value = [1, 6, 1]</text>\n",
       "<text fill=\"#000000\" font-family=\"Helvetica,sans-Serif\" font-size=\"14.00\" text-anchor=\"middle\" x=\"138.5\" y=\"-7.8\">class = 1</text>\n",
       "</g>\n",
       "<!-- 4&#45;&gt;5 -->\n",
       "<g class=\"edge\" id=\"edge4\">\n",
       "<title>4-&gt;5</title>\n",
       "<path d=\"M182.4346,-103.9815C176.8955,-95.1585 171.0364,-85.8258 165.4645,-76.9506\" fill=\"none\" stroke=\"#000000\"/>\n",
       "<polygon fill=\"#000000\" points=\"168.2922,-74.872 160.0108,-68.2637 162.3637,-78.594 168.2922,-74.872\" stroke=\"#000000\"/>\n",
       "</g>\n",
       "<!-- 6 -->\n",
       "<g class=\"node\" id=\"node6\">\n",
       "<title>6</title>\n",
       "<polygon fill=\"#adf4cb\" points=\"339,-68 216,-68 216,0 339,0 339,-68\" stroke=\"#000000\"/>\n",
       "<text fill=\"#000000\" font-family=\"Helvetica,sans-Serif\" font-size=\"14.00\" text-anchor=\"middle\" x=\"277.5\" y=\"-52.8\">entropy = 1.142</text>\n",
       "<text fill=\"#000000\" font-family=\"Helvetica,sans-Serif\" font-size=\"14.00\" text-anchor=\"middle\" x=\"277.5\" y=\"-37.8\">samples = 26</text>\n",
       "<text fill=\"#000000\" font-family=\"Helvetica,sans-Serif\" font-size=\"14.00\" text-anchor=\"middle\" x=\"277.5\" y=\"-22.8\">value = [1, 16, 9]</text>\n",
       "<text fill=\"#000000\" font-family=\"Helvetica,sans-Serif\" font-size=\"14.00\" text-anchor=\"middle\" x=\"277.5\" y=\"-7.8\">class = 1</text>\n",
       "</g>\n",
       "<!-- 4&#45;&gt;6 -->\n",
       "<g class=\"edge\" id=\"edge5\">\n",
       "<title>4-&gt;6</title>\n",
       "<path d=\"M234.1931,-103.9815C239.6531,-95.1585 245.4284,-85.8258 250.9207,-76.9506\" fill=\"none\" stroke=\"#000000\"/>\n",
       "<polygon fill=\"#000000\" points=\"254.0104,-78.609 256.2965,-68.2637 248.058,-74.9254 254.0104,-78.609\" stroke=\"#000000\"/>\n",
       "</g>\n",
       "</g>\n",
       "</svg>"
      ],
      "text/plain": [
       "<IPython.core.display.SVG object>"
      ]
     },
     "metadata": {},
     "output_type": "display_data"
    }
   ],
   "source": [
    "graph = Source(tree.export_graphviz(classf, out_file=None\n",
    "   , feature_names=independent_variables, class_names=['0', '1' , '2'] \n",
    "   , filled = True))\n",
    "display(SVG(graph.pipe(format='svg')))"
   ]
  },
  {
   "cell_type": "code",
   "execution_count": null,
   "metadata": {
    "id": "2p5qzPYW2L9d"
   },
   "outputs": [],
   "source": []
  },
  {
   "cell_type": "code",
   "execution_count": 475,
   "metadata": {
    "executionInfo": {
     "elapsed": 850,
     "status": "ok",
     "timestamp": 1664823227259,
     "user": {
      "displayName": "Shreyash Jagdale",
      "userId": "16622866640788809189"
     },
     "user_tz": -330
    },
    "id": "E8I5PdwM2RwX"
   },
   "outputs": [],
   "source": [
    "from sklearn.ensemble import RandomForestClassifier\n",
    "from sklearn.metrics import roc_auc_score, confusion_matrix, accuracy_score\n",
    "from pylab import rcParams\n",
    "rcParams['figure.figsize'] = 8, 8"
   ]
  },
  {
   "cell_type": "code",
   "execution_count": 476,
   "metadata": {
    "colab": {
     "base_uri": "https://localhost:8080/"
    },
    "executionInfo": {
     "elapsed": 36,
     "status": "ok",
     "timestamp": 1664823228125,
     "user": {
      "displayName": "Shreyash Jagdale",
      "userId": "16622866640788809189"
     },
     "user_tz": -330
    },
    "id": "h2Gqu4s52R6_",
    "outputId": "cf616b4f-2d49-479e-c224-fd373f30f9db"
   },
   "outputs": [
    {
     "data": {
      "text/plain": [
       "RandomForestClassifier()"
      ]
     },
     "execution_count": 476,
     "metadata": {},
     "output_type": "execute_result"
    }
   ],
   "source": [
    "classifier = RandomForestClassifier(n_estimators=100)\n",
    "classifier.fit(X_train, y_train)"
   ]
  },
  {
   "cell_type": "code",
   "execution_count": 477,
   "metadata": {
    "executionInfo": {
     "elapsed": 33,
     "status": "ok",
     "timestamp": 1664823228128,
     "user": {
      "displayName": "Shreyash Jagdale",
      "userId": "16622866640788809189"
     },
     "user_tz": -330
    },
    "id": "HhY5ckif2SDn"
   },
   "outputs": [],
   "source": [
    "test_preds_  = classifier.predict(X_test)\n",
    "train_preds_ = classifier.predict(X_train)"
   ]
  },
  {
   "cell_type": "code",
   "execution_count": 478,
   "metadata": {
    "colab": {
     "base_uri": "https://localhost:8080/"
    },
    "executionInfo": {
     "elapsed": 33,
     "status": "ok",
     "timestamp": 1664823228130,
     "user": {
      "displayName": "Shreyash Jagdale",
      "userId": "16622866640788809189"
     },
     "user_tz": -330
    },
    "id": "-FqBnExi3eiP",
    "outputId": "c8f167ac-8c3c-4c72-e7c2-f0607441e1b3"
   },
   "outputs": [
    {
     "data": {
      "text/plain": [
       "0.6086956521739131"
      ]
     },
     "execution_count": 478,
     "metadata": {},
     "output_type": "execute_result"
    }
   ],
   "source": [
    "accuracy_score(y_test , test_preds_)"
   ]
  },
  {
   "cell_type": "code",
   "execution_count": 479,
   "metadata": {
    "colab": {
     "base_uri": "https://localhost:8080/"
    },
    "executionInfo": {
     "elapsed": 598,
     "status": "ok",
     "timestamp": 1664823231944,
     "user": {
      "displayName": "Shreyash Jagdale",
      "userId": "16622866640788809189"
     },
     "user_tz": -330
    },
    "id": "nRncwt6Y4xJE",
    "outputId": "aab0603a-3f70-451a-bf45-88f2489c3402"
   },
   "outputs": [
    {
     "data": {
      "text/plain": [
       "array([[ 0,  0,  0],\n",
       "       [ 1, 14,  2],\n",
       "       [ 0,  6,  0]])"
      ]
     },
     "execution_count": 479,
     "metadata": {},
     "output_type": "execute_result"
    }
   ],
   "source": [
    "confusion_matrix(y_test , test_preds_)"
   ]
  },
  {
   "cell_type": "code",
   "execution_count": 460,
   "metadata": {
    "colab": {
     "base_uri": "https://localhost:8080/"
    },
    "executionInfo": {
     "elapsed": 13,
     "status": "ok",
     "timestamp": 1664575997336,
     "user": {
      "displayName": "Shreyash Jagdale",
      "userId": "16622866640788809189"
     },
     "user_tz": -330
    },
    "id": "BaLqNRRXCKzv",
    "outputId": "96363c75-84bd-4b60-eaaf-d67d212ae06d"
   },
   "outputs": [
    {
     "data": {
      "text/plain": [
       "surf_temp         0.207769\n",
       "comfort           0.178841\n",
       "core_temp         0.166947\n",
       "o2_satur          0.145001\n",
       "surf_temp_stbl    0.139169\n",
       "bp                0.060267\n",
       "bp_stbl           0.059755\n",
       "core_temp_stbl    0.042250\n",
       "dtype: float64"
      ]
     },
     "execution_count": 460,
     "metadata": {},
     "output_type": "execute_result"
    }
   ],
   "source": [
    "feature_imp = pd.Series(classifier.feature_importances_, index = independent_variables).sort_values(ascending = False)\n",
    "feature_imp"
   ]
  },
  {
   "cell_type": "code",
   "execution_count": null,
   "metadata": {
    "id": "Kh0KRDqjE2lh"
   },
   "outputs": [],
   "source": []
  },
  {
   "cell_type": "code",
   "execution_count": 480,
   "metadata": {
    "executionInfo": {
     "elapsed": 1054,
     "status": "ok",
     "timestamp": 1664823242027,
     "user": {
      "displayName": "Shreyash Jagdale",
      "userId": "16622866640788809189"
     },
     "user_tz": -330
    },
    "id": "jK-KbsRMataT"
   },
   "outputs": [],
   "source": [
    "from sklearn.svm import SVC\n",
    "SVC_model = SVC().fit(X_train , y_train)"
   ]
  },
  {
   "cell_type": "code",
   "execution_count": 481,
   "metadata": {
    "executionInfo": {
     "elapsed": 22,
     "status": "ok",
     "timestamp": 1664823242874,
     "user": {
      "displayName": "Shreyash Jagdale",
      "userId": "16622866640788809189"
     },
     "user_tz": -330
    },
    "id": "CF4SHSoabTNa"
   },
   "outputs": [],
   "source": [
    "test_p = SVC_model.predict(X_test)"
   ]
  },
  {
   "cell_type": "code",
   "execution_count": 482,
   "metadata": {
    "colab": {
     "base_uri": "https://localhost:8080/"
    },
    "executionInfo": {
     "elapsed": 19,
     "status": "ok",
     "timestamp": 1664823242877,
     "user": {
      "displayName": "Shreyash Jagdale",
      "userId": "16622866640788809189"
     },
     "user_tz": -330
    },
    "id": "T_V9vMJQbpJ-",
    "outputId": "3ef5025d-b647-438b-b52b-f281af444da6"
   },
   "outputs": [
    {
     "data": {
      "text/plain": [
       "0.7391304347826086"
      ]
     },
     "execution_count": 482,
     "metadata": {},
     "output_type": "execute_result"
    }
   ],
   "source": [
    "accuracy_score(test_p , y_test)"
   ]
  },
  {
   "cell_type": "code",
   "execution_count": null,
   "metadata": {
    "id": "HBHNAQMUb6AX"
   },
   "outputs": [],
   "source": []
  },
  {
   "cell_type": "code",
   "execution_count": null,
   "metadata": {
    "id": "wWOhV3TfgxjW"
   },
   "outputs": [],
   "source": []
  },
  {
   "cell_type": "code",
   "execution_count": 437,
   "metadata": {
    "executionInfo": {
     "elapsed": 559,
     "status": "ok",
     "timestamp": 1664823001885,
     "user": {
      "displayName": "Shreyash Jagdale",
      "userId": "16622866640788809189"
     },
     "user_tz": -330
    },
    "id": "cDHQyQX7hV7X"
   },
   "outputs": [],
   "source": [
    "from sklearn.neighbors import KNeighborsClassifier\n",
    " \n",
    "knn = KNeighborsClassifier(n_neighbors = 13)\n",
    " \n",
    "knn.fit(X_train, y_train)\n",
    "pred = knn.predict(X_test)\n"
   ]
  },
  {
   "cell_type": "code",
   "execution_count": 438,
   "metadata": {
    "colab": {
     "base_uri": "https://localhost:8080/"
    },
    "executionInfo": {
     "elapsed": 569,
     "status": "ok",
     "timestamp": 1664823004349,
     "user": {
      "displayName": "Shreyash Jagdale",
      "userId": "16622866640788809189"
     },
     "user_tz": -330
    },
    "id": "5gDrPfRIho0e",
    "outputId": "45eda923-2033-4128-b750-4daae8871403"
   },
   "outputs": [
    {
     "data": {
      "text/plain": [
       "0.8695652173913043"
      ]
     },
     "execution_count": 438,
     "metadata": {},
     "output_type": "execute_result"
    }
   ],
   "source": [
    "accuracy_score(pred , y_test)"
   ]
  },
  {
   "cell_type": "code",
   "execution_count": 439,
   "metadata": {
    "colab": {
     "base_uri": "https://localhost:8080/"
    },
    "executionInfo": {
     "elapsed": 1050,
     "status": "ok",
     "timestamp": 1664823009169,
     "user": {
      "displayName": "Shreyash Jagdale",
      "userId": "16622866640788809189"
     },
     "user_tz": -330
    },
    "id": "05TZ0YfShXZu",
    "outputId": "ea226932-29df-488b-920f-bfe950faf526"
   },
   "outputs": [
    {
     "name": "stdout",
     "output_type": "stream",
     "text": [
      "[[19  0]\n",
      " [ 3  1]]\n",
      "              precision    recall  f1-score   support\n",
      "\n",
      "           1       0.86      1.00      0.93        19\n",
      "           2       1.00      0.25      0.40         4\n",
      "\n",
      "    accuracy                           0.87        23\n",
      "   macro avg       0.93      0.62      0.66        23\n",
      "weighted avg       0.89      0.87      0.84        23\n",
      "\n"
     ]
    }
   ],
   "source": [
    "from sklearn.metrics import classification_report, confusion_matrix\n",
    "print(confusion_matrix(y_test, pred))\n",
    " \n",
    "print(classification_report(y_test, pred))"
   ]
  },
  {
   "cell_type": "code",
   "execution_count": 436,
   "metadata": {
    "colab": {
     "base_uri": "https://localhost:8080/",
     "height": 498
    },
    "executionInfo": {
     "elapsed": 887,
     "status": "ok",
     "timestamp": 1664822980404,
     "user": {
      "displayName": "Shreyash Jagdale",
      "userId": "16622866640788809189"
     },
     "user_tz": -330
    },
    "id": "fiAd3n9BKqwH",
    "outputId": "2703fb00-d0f2-4f40-e797-b0d3e1470894"
   },
   "outputs": [
    {
     "data": {
      "image/png": "[encoded data removed]",
      "text/plain": [
       "<Figure size 576x576 with 1 Axes>"
      ]
     },
     "metadata": {
      "needs_background": "light"
     },
     "output_type": "display_data"
    }
   ],
   "source": [
    "neighbors = np.arange(1, 20)\n",
    "train_accuracy = np.empty(len(neighbors))\n",
    "test_accuracy = np.empty(len(neighbors))\n",
    "  \n",
    "for i, k in enumerate(neighbors):\n",
    "    knn = KNeighborsClassifier(n_neighbors=k)\n",
    "    knn.fit(X_train, y_train)\n",
    "        \n",
    "    train_accuracy[i] = knn.score(X_train, y_train)\n",
    "    test_accuracy[i] = knn.score(X_test, y_test)\n",
    "  \n",
    "plt.plot(neighbors, test_accuracy, label = 'Testing dataset Accuracy')\n",
    "plt.plot(neighbors, train_accuracy, label = 'Training dataset Accuracy')\n",
    "  \n",
    "plt.legend()\n",
    "plt.xlabel('n_neighbors')\n",
    "plt.ylabel('Accuracy')\n",
    "plt.show()"
   ]
  },
  {
   "cell_type": "code",
   "execution_count": 427,
   "metadata": {
    "executionInfo": {
     "elapsed": 714,
     "status": "ok",
     "timestamp": 1664822673653,
     "user": {
      "displayName": "Shreyash Jagdale",
      "userId": "16622866640788809189"
     },
     "user_tz": -330
    },
    "id": "jfzywgxDb6Mc"
   },
   "outputs": [],
   "source": [
    "from sklearn.neighbors import KNeighborsClassifier"
   ]
  },
  {
   "cell_type": "code",
   "execution_count": 428,
   "metadata": {
    "executionInfo": {
     "elapsed": 30,
     "status": "ok",
     "timestamp": 1664822674546,
     "user": {
      "displayName": "Shreyash Jagdale",
      "userId": "16622866640788809189"
     },
     "user_tz": -330
    },
    "id": "YNmhRthWcmHp"
   },
   "outputs": [],
   "source": [
    "knn_model = KNeighborsClassifier(n_neighbors=4).fit(X_train, y_train)"
   ]
  },
  {
   "cell_type": "code",
   "execution_count": 429,
   "metadata": {
    "executionInfo": {
     "elapsed": 30,
     "status": "ok",
     "timestamp": 1664822674549,
     "user": {
      "displayName": "Shreyash Jagdale",
      "userId": "16622866640788809189"
     },
     "user_tz": -330
    },
    "id": "QZBFhOQEc5s4"
   },
   "outputs": [],
   "source": [
    "tst_p = knn_model.predict(X_test)"
   ]
  },
  {
   "cell_type": "code",
   "execution_count": 430,
   "metadata": {
    "colab": {
     "base_uri": "https://localhost:8080/"
    },
    "executionInfo": {
     "elapsed": 30,
     "status": "ok",
     "timestamp": 1664822674551,
     "user": {
      "displayName": "Shreyash Jagdale",
      "userId": "16622866640788809189"
     },
     "user_tz": -330
    },
    "id": "UpZ_U8I8dIxK",
    "outputId": "32c9789c-0887-4bd5-8ffc-15a1a6b63b05"
   },
   "outputs": [
    {
     "data": {
      "text/plain": [
       "0.8260869565217391"
      ]
     },
     "execution_count": 430,
     "metadata": {},
     "output_type": "execute_result"
    }
   ],
   "source": [
    "accuracy_score(y_test , tst_p)"
   ]
  },
  {
   "cell_type": "code",
   "execution_count": null,
   "metadata": {
    "id": "8MkDy8dzdR54"
   },
   "outputs": [],
   "source": []
  }
 ],
 "metadata": {
  "colab": {
   "authorship_tag": "ABX9TyOt1smUe4Wqh4kEXPEt08gf",
   "collapsed_sections": [],
   "provenance": []
  },
  "kernelspec": {
   "display_name": "Python 3 (ipykernel)",
   "language": "python",
   "name": "python3"
  },
  "language_info": {
   "codemirror_mode": {
    "name": "ipython",
    "version": 3
   },
   "file_extension": ".py",
   "mimetype": "text/x-python",
   "name": "python",
   "nbconvert_exporter": "python",
   "pygments_lexer": "ipython3",
   "version": "3.9.12"
  }
 },
 "nbformat": 4,
 "nbformat_minor": 1
}
